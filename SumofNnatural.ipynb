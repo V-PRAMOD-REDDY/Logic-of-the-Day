{
 "cells": [
  {
   "cell_type": "code",
   "execution_count": 22,
   "id": "f68a3133-4f07-4d25-b22b-dc967cb46334",
   "metadata": {},
   "outputs": [
    {
     "name": "stdin",
     "output_type": "stream",
     "text": [
      "Enter a number: 3\n"
     ]
    },
    {
     "name": "stdout",
     "output_type": "stream",
     "text": [
      "6\n"
     ]
    }
   ],
   "source": [
    "#Day-2\n",
    "#To find N natural numbers\n",
    "n=int(input(\"Enter a number:\"))\n",
    "if n<0:\n",
    "    print(\"Please a enter Positive number \")\n",
    "else:\n",
    "    sum=0\n",
    "    while n>0:\n",
    "        sum += n\n",
    "        n-=1\n",
    "    print(sum)"
   ]
  },
  {
   "cell_type": "code",
   "execution_count": 29,
   "id": "b54c42d8-b8f5-4183-875a-d90a81c175f8",
   "metadata": {},
   "outputs": [
    {
     "name": "stdin",
     "output_type": "stream",
     "text": [
      "Enter a number: -5\n"
     ]
    },
    {
     "name": "stdout",
     "output_type": "stream",
     "text": [
      "Please Enter a Positive number\n"
     ]
    }
   ],
   "source": [
    "n=int(input(\"Enter a number:\"))\n",
    "if n<0:\n",
    "    print(\"Please Enter a Positive number\")\n",
    "else:\n",
    "    sum=n*(n+1)//2\n",
    "    print(sum)"
   ]
  },
  {
   "cell_type": "code",
   "execution_count": null,
   "id": "010b0b2f-dee9-44e7-bc6c-d78909c35a9b",
   "metadata": {},
   "outputs": [],
   "source": []
  }
 ],
 "metadata": {
  "kernelspec": {
   "display_name": "Python 3 (ipykernel)",
   "language": "python",
   "name": "python3"
  },
  "language_info": {
   "codemirror_mode": {
    "name": "ipython",
    "version": 3
   },
   "file_extension": ".py",
   "mimetype": "text/x-python",
   "name": "python",
   "nbconvert_exporter": "python",
   "pygments_lexer": "ipython3",
   "version": "3.11.7"
  }
 },
 "nbformat": 4,
 "nbformat_minor": 5
}
