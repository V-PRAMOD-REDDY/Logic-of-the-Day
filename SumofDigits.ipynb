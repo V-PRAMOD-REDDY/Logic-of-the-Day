{
 "cells": [
  {
   "cell_type": "code",
   "execution_count": 10,
   "id": "fc355fd1-83ce-47f6-98c6-f3210f650788",
   "metadata": {},
   "outputs": [
    {
     "name": "stdin",
     "output_type": "stream",
     "text": [
      "Enter the digits to sum: 123456789\n"
     ]
    },
    {
     "name": "stdout",
     "output_type": "stream",
     "text": [
      "Sum of digits is: 45\n"
     ]
    }
   ],
   "source": [
    "#Day-1\n",
    "n=int(input(\"Enter the digits to sum:\"))\n",
    "sum=0\n",
    "while n>0:\n",
    "    reminder=n%10 \n",
    "    sum=sum+reminder\n",
    "    n=n//10\n",
    "print(\"Sum of digits is:\",sum)"
   ]
  },
  {
   "cell_type": "code",
   "execution_count": null,
   "id": "f382774e-148d-4f7e-9b29-6fb975659f02",
   "metadata": {},
   "outputs": [],
   "source": []
  }
 ],
 "metadata": {
  "kernelspec": {
   "display_name": "Python 3 (ipykernel)",
   "language": "python",
   "name": "python3"
  },
  "language_info": {
   "codemirror_mode": {
    "name": "ipython",
    "version": 3
   },
   "file_extension": ".py",
   "mimetype": "text/x-python",
   "name": "python",
   "nbconvert_exporter": "python",
   "pygments_lexer": "ipython3",
   "version": "3.11.7"
  }
 },
 "nbformat": 4,
 "nbformat_minor": 5
}
